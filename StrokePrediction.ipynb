{
  "nbformat": 4,
  "nbformat_minor": 0,
  "metadata": {
    "colab": {
      "name": "StrokePrediction.ipynb",
      "provenance": [],
      "collapsed_sections": [
        "oFMqbiO1-_nE"
      ]
    },
    "kernelspec": {
      "display_name": "Python 3",
      "name": "python3"
    },
    "language_info": {
      "name": "python"
    }
  },
  "cells": [
    {
      "cell_type": "markdown",
      "metadata": {
        "id": "j9IlBb8r-2w-"
      },
      "source": [
        "## Visualização da base"
      ]
    },
    {
      "cell_type": "markdown",
      "metadata": {
        "id": "5Qb9npLtz1r2"
      },
      "source": [
        "Importações"
      ]
    },
    {
      "cell_type": "code",
      "metadata": {
        "id": "XP6zml5stngC"
      },
      "source": [
        "import pandas as pd\n",
        "import numpy as np\n",
        "import seaborn as sns\n",
        "import matplotlib.pyplot as plt\n",
        "import missingno as msno\n",
        "import seaborn as sns\n",
        "from sklearn.model_selection import train_test_split, cross_val_score, GridSearchCV\n",
        "from sklearn.pipeline import make_pipeline\n",
        "from imblearn.pipeline import make_pipeline as make_pipeline_imb\n",
        "from imblearn.over_sampling import SMOTE\n",
        "from imblearn.under_sampling import NearMiss\n",
        "from sklearn.metrics import confusion_matrix, precision_score, recall_score, f1_score, roc_auc_score, accuracy_score, classification_report\n",
        "from sklearn.ensemble import RandomForestClassifier, AdaBoostClassifier, BaggingClassifier, GradientBoostingClassifier\n",
        "from xgboost import XGBClassifier, XGBRFClassifier\n",
        "from sklearn.neural_network import MLPClassifier\n",
        "from sklearn.naive_bayes import GaussianNB, MultinomialNB, BernoulliNB, CategoricalNB\n",
        "from sklearn.linear_model import LinearRegression\n",
        "from sklearn.neighbors import KNeighborsClassifier\n",
        "from sklearn.linear_model import SGDClassifier, LogisticRegression\n",
        "from sklearn.svm import SVC\n",
        "from sklearn.metrics import classification_report, accuracy_score, make_scorer, confusion_matrix\n",
        "from sklearn.tree import DecisionTreeClassifier\n",
        "from sklearn.model_selection import KFold\n",
        "import warnings\n",
        "warnings.filterwarnings('ignore')"
      ],
      "execution_count": null,
      "outputs": []
    },
    {
      "cell_type": "markdown",
      "metadata": {
        "id": "uHeD3nAi0AaV"
      },
      "source": [
        "Base"
      ]
    },
    {
      "cell_type": "code",
      "metadata": {
        "colab": {
          "base_uri": "https://localhost:8080/"
        },
        "id": "Wfbivf2Nz6eg",
        "outputId": "c33e5e30-5cf8-4ca4-f31c-d91f4774a3cb"
      },
      "source": [
        "path = 'https://raw.githubusercontent.com/arthurgmm/ia_dataset/main/healthcare-dataset-stroke-data.csv'\n",
        "\n",
        "dados = pd.read_csv(path)\n",
        "dados.head()"
      ],
      "execution_count": null,
      "outputs": [
        {
          "output_type": "execute_result",
          "data": {
            "text/html": [
              "<div>\n",
              "<style scoped>\n",
              "    .dataframe tbody tr th:only-of-type {\n",
              "        vertical-align: middle;\n",
              "    }\n",
              "\n",
              "    .dataframe tbody tr th {\n",
              "        vertical-align: top;\n",
              "    }\n",
              "\n",
              "    .dataframe thead th {\n",
              "        text-align: right;\n",
              "    }\n",
              "</style>\n",
              "<table border=\"1\" class=\"dataframe\">\n",
              "  <thead>\n",
              "    <tr style=\"text-align: right;\">\n",
              "      <th></th>\n",
              "      <th>id</th>\n",
              "      <th>gender</th>\n",
              "      <th>age</th>\n",
              "      <th>hypertension</th>\n",
              "      <th>heart_disease</th>\n",
              "      <th>ever_married</th>\n",
              "      <th>work_type</th>\n",
              "      <th>Residence_type</th>\n",
              "      <th>avg_glucose_level</th>\n",
              "      <th>bmi</th>\n",
              "      <th>smoking_status</th>\n",
              "      <th>stroke</th>\n",
              "    </tr>\n",
              "  </thead>\n",
              "  <tbody>\n",
              "    <tr>\n",
              "      <th>0</th>\n",
              "      <td>9046</td>\n",
              "      <td>Male</td>\n",
              "      <td>67.0</td>\n",
              "      <td>0</td>\n",
              "      <td>1</td>\n",
              "      <td>Yes</td>\n",
              "      <td>Private</td>\n",
              "      <td>Urban</td>\n",
              "      <td>228.69</td>\n",
              "      <td>36.6</td>\n",
              "      <td>formerly smoked</td>\n",
              "      <td>1</td>\n",
              "    </tr>\n",
              "    <tr>\n",
              "      <th>1</th>\n",
              "      <td>51676</td>\n",
              "      <td>Female</td>\n",
              "      <td>61.0</td>\n",
              "      <td>0</td>\n",
              "      <td>0</td>\n",
              "      <td>Yes</td>\n",
              "      <td>Self-employed</td>\n",
              "      <td>Rural</td>\n",
              "      <td>202.21</td>\n",
              "      <td>NaN</td>\n",
              "      <td>never smoked</td>\n",
              "      <td>1</td>\n",
              "    </tr>\n",
              "    <tr>\n",
              "      <th>2</th>\n",
              "      <td>31112</td>\n",
              "      <td>Male</td>\n",
              "      <td>80.0</td>\n",
              "      <td>0</td>\n",
              "      <td>1</td>\n",
              "      <td>Yes</td>\n",
              "      <td>Private</td>\n",
              "      <td>Rural</td>\n",
              "      <td>105.92</td>\n",
              "      <td>32.5</td>\n",
              "      <td>never smoked</td>\n",
              "      <td>1</td>\n",
              "    </tr>\n",
              "    <tr>\n",
              "      <th>3</th>\n",
              "      <td>60182</td>\n",
              "      <td>Female</td>\n",
              "      <td>49.0</td>\n",
              "      <td>0</td>\n",
              "      <td>0</td>\n",
              "      <td>Yes</td>\n",
              "      <td>Private</td>\n",
              "      <td>Urban</td>\n",
              "      <td>171.23</td>\n",
              "      <td>34.4</td>\n",
              "      <td>smokes</td>\n",
              "      <td>1</td>\n",
              "    </tr>\n",
              "    <tr>\n",
              "      <th>4</th>\n",
              "      <td>1665</td>\n",
              "      <td>Female</td>\n",
              "      <td>79.0</td>\n",
              "      <td>1</td>\n",
              "      <td>0</td>\n",
              "      <td>Yes</td>\n",
              "      <td>Self-employed</td>\n",
              "      <td>Rural</td>\n",
              "      <td>174.12</td>\n",
              "      <td>24.0</td>\n",
              "      <td>never smoked</td>\n",
              "      <td>1</td>\n",
              "    </tr>\n",
              "  </tbody>\n",
              "</table>\n",
              "</div>"
            ],
            "text/plain": [
              "      id  gender   age  ...   bmi   smoking_status stroke\n",
              "0   9046    Male  67.0  ...  36.6  formerly smoked      1\n",
              "1  51676  Female  61.0  ...   NaN     never smoked      1\n",
              "2  31112    Male  80.0  ...  32.5     never smoked      1\n",
              "3  60182  Female  49.0  ...  34.4           smokes      1\n",
              "4   1665  Female  79.0  ...  24.0     never smoked      1\n",
              "\n",
              "[5 rows x 12 columns]"
            ]
          },
          "metadata": {},
          "execution_count": 8
        }
      ]
    },
    {
      "cell_type": "code",
      "metadata": {
        "colab": {
          "base_uri": "https://localhost:8080/"
        },
        "id": "8Onazz1l3cGT",
        "outputId": "cd3a5fe0-5f39-47d2-c224-785de1dc5aac"
      },
      "source": [
        "dados_num=dados[['age','avg_glucose_level','bmi']]\n",
        "dados_cat=dados[['gender', 'hypertension', 'heart_disease', 'ever_married','work_type', 'Residence_type', \n",
        "                       'smoking_status', 'stroke']]\n",
        "\n",
        "for cat in dados_cat:\n",
        "    plt.figure(figsize=(10,5))\n",
        "    sns.countplot(x = dados[cat])\n",
        "    plt.show()"
      ],
      "execution_count": null,
      "outputs": [
        {
          "output_type": "display_data",
          "data": {
            "image/png": "[encoded data removed]",
            "text/plain": [
              "<Figure size 720x360 with 1 Axes>"
            ]
          },
          "metadata": {
            "needs_background": "light"
          }
        },
        {
          "output_type": "display_data",
          "data": {
            "image/png": "[encoded data removed]",
            "text/plain": [
              "<Figure size 720x360 with 1 Axes>"
            ]
          },
          "metadata": {
            "needs_background": "light"
          }
        },
        {
          "output_type": "display_data",
          "data": {
            "image/png": "[encoded data removed]",
            "text/plain": [
              "<Figure size 720x360 with 1 Axes>"
            ]
          },
          "metadata": {
            "needs_background": "light"
          }
        },
        {
          "output_type": "display_data",
          "data": {
            "image/png": "[encoded data removed]",
            "text/plain": [
              "<Figure size 720x360 with 1 Axes>"
            ]
          },
          "metadata": {
            "needs_background": "light"
          }
        },
        {
          "output_type": "display_data",
          "data": {
            "image/png": "[encoded data removed]",
            "text/plain": [
              "<Figure size 720x360 with 1 Axes>"
            ]
          },
          "metadata": {
            "needs_background": "light"
          }
        },
        {
          "output_type": "display_data",
          "data": {
            "image/png": "[encoded data removed]",
            "text/plain": [
              "<Figure size 720x360 with 1 Axes>"
            ]
          },
          "metadata": {
            "needs_background": "light"
          }
        },
        {
          "output_type": "display_data",
          "data": {
            "image/png": "[encoded data removed]",
            "text/plain": [
              "<Figure size 720x360 with 1 Axes>"
            ]
          },
          "metadata": {
            "needs_background": "light"
          }
        },
        {
          "output_type": "display_data",
          "data": {
            "image/png": "[encoded data removed]",
            "text/plain": [
              "<Figure size 720x360 with 1 Axes>"
            ]
          },
          "metadata": {
            "needs_background": "light"
          }
        }
      ]
    },
    {
      "cell_type": "code",
      "metadata": {
        "colab": {
          "base_uri": "https://localhost:8080/"
        },
        "id": "iuWzACvp6V1B",
        "outputId": "872c3e81-f14a-4725-d271-3477100f045a"
      },
      "source": [
        "fig = plt.figure(figsize=(20,13))\n",
        "gs = fig.add_gridspec(3,3)\n",
        "gs.update(wspace=0.4, hspace=0.4)\n",
        "\n",
        "ax0 = fig.add_subplot(gs[0,0])\n",
        "ax2 = fig.add_subplot(gs[1,0])\n",
        "ax4 = fig.add_subplot(gs[2,0])\n",
        "axes=[ax0,ax2,ax4]\n",
        "\n",
        "sns.kdeplot(ax=ax0,x=dados.loc[dados['stroke']==1]['age'],color='#ff0000',label='Com AVC',shade=True)\n",
        "sns.kdeplot(ax=ax0,x=dados.loc[dados['stroke']==0]['age'],color='#145bff',label='Sem AVC',shade=True)\n",
        "ax0.legend(loc = 'upper left')\n",
        "ax0.grid(linestyle='--', axis='y')\n",
        "\n",
        "sns.kdeplot(ax=ax2,x=dados.loc[dados['stroke']==1]['avg_glucose_level'],color='#ff0000',label='Com AVC',shade=True)\n",
        "sns.kdeplot(ax=ax2,x=dados.loc[dados['stroke']==0]['avg_glucose_level'],color='#145bff',label='Sem AVC',shade=True)\n",
        "ax2.legend(loc = 'upper right')\n",
        "ax2.grid(linestyle='--', axis='y')\n",
        "\n",
        "sns.kdeplot(ax=ax4,x=dados.loc[dados['stroke']==1]['bmi'],color='#ff0000',label='Com AVC',shade=True)\n",
        "sns.kdeplot(ax=ax4,x=dados.loc[dados['stroke']==0]['bmi'],color='#145bff',label='Sem AVC',shade=True)\n",
        "ax4.legend(loc = 'upper right')\n",
        "ax4.grid(linestyle='--', axis='y')"
      ],
      "execution_count": null,
      "outputs": [
        {
          "output_type": "display_data",
          "data": {
            "image/png": "[encoded data removed]",
            "text/plain": [
              "<Figure size 1440x936 with 3 Axes>"
            ]
          },
          "metadata": {
            "needs_background": "light"
          }
        }
      ]
    },
    {
      "cell_type": "code",
      "metadata": {
        "id": "IudkFRR1-Uog",
        "colab": {
          "base_uri": "https://localhost:8080/"
        },
        "outputId": "a9fa70a1-19e7-4cd9-c587-b06f6ae0e7e1"
      },
      "source": [
        "dados_cat=dados[['gender', 'hypertension', 'heart_disease', 'ever_married','work_type', 'Residence_type', \n",
        "                       'smoking_status', 'stroke']]\n",
        "fig=plt.figure(figsize=(20,23))\n",
        "for indx,val in enumerate(dados_cat.columns):\n",
        "    ax=plt.subplot(4,2,indx+1)\n",
        "    ax.set_title(val,fontweight='bold',fontfamily='serif')\n",
        "    for i in ['top','right']:\n",
        "        ax.spines[i].set_visible(False)\n",
        "    ax.grid(linestyle=':',axis='y')\n",
        "    sns.countplot(dados_cat[val],hue=dados['stroke'])"
      ],
      "execution_count": null,
      "outputs": [
        {
          "output_type": "display_data",
          "data": {
            "image/png": "[encoded data removed]",
            "text/plain": [
              "<Figure size 1440x1656 with 8 Axes>"
            ]
          },
          "metadata": {
            "needs_background": "light"
          }
        }
      ]
    },
    {
      "cell_type": "code",
      "metadata": {
        "colab": {
          "base_uri": "https://localhost:8080/"
        },
        "id": "iC_O1MUH-Fjw",
        "outputId": "c6f39e1d-6def-4ac5-e879-e9cfff718ec4"
      },
      "source": [
        "# Smoking Type and Stroke\n",
        "pd_stroke = pd.pivot_table(data=dados[dados['stroke']==1],index=dados['Residence_type'],values='stroke',aggfunc='count').reset_index()\n",
        "fig,ax=plt.subplots(1,1,figsize=(10,5))\n",
        "ax.bar(pd_stroke['Residence_type'],pd_stroke['stroke'],width=0.55,linewidth=0.7)\n",
        "for idx,val in enumerate(pd_stroke['stroke']):\n",
        "    ax.text(idx,val+1,round(val,1),horizontalalignment='center')\n",
        "ax.grid(linestyle=':',axis='y',alpha=0.5)\n",
        "for i in ['top','right']:\n",
        "    ax.spines[i].set_visible(False)"
      ],
      "execution_count": null,
      "outputs": [
        {
          "output_type": "display_data",
          "data": {
            "image/png": "[encoded data removed]",
            "text/plain": [
              "<Figure size 720x360 with 1 Axes>"
            ]
          },
          "metadata": {
            "needs_background": "light"
          }
        }
      ]
    },
    {
      "cell_type": "markdown",
      "metadata": {
        "id": "oFMqbiO1-_nE"
      },
      "source": [
        "## Etapas de pré-processamento"
      ]
    },
    {
      "cell_type": "code",
      "metadata": {
        "id": "HtPbV4jr2Fl-"
      },
      "source": [
        "dados = dados.drop(columns=['id'])"
      ],
      "execution_count": null,
      "outputs": []
    },
    {
      "cell_type": "code",
      "metadata": {
        "colab": {
          "base_uri": "https://localhost:8080/"
        },
        "id": "x8c_l6NDwedn",
        "outputId": "77be7a58-ca14-49d8-824e-7ebd8b5731dd"
      },
      "source": [
        "dados['smoking_status'].replace('Unknown', np.nan, inplace=True)\n",
        "dados.isna().sum()"
      ],
      "execution_count": null,
      "outputs": [
        {
          "output_type": "execute_result",
          "data": {
            "text/plain": [
              "gender                  0\n",
              "age                     0\n",
              "hypertension            0\n",
              "heart_disease           0\n",
              "ever_married            0\n",
              "work_type               0\n",
              "Residence_type          0\n",
              "avg_glucose_level       0\n",
              "bmi                   201\n",
              "smoking_status       1544\n",
              "stroke                  0\n",
              "dtype: int64"
            ]
          },
          "metadata": {},
          "execution_count": 14
        }
      ]
    },
    {
      "cell_type": "code",
      "metadata": {
        "colab": {
          "base_uri": "https://localhost:8080/"
        },
        "id": "PBBvfRWKGxxt",
        "outputId": "ae2acabf-8d9e-4b37-b947-34ddfb387728"
      },
      "source": [
        "color = ['grey','grey','grey','grey','grey','grey','grey','grey','grey','#ed2f3c','#ed2f3c']\n",
        "msno.bar(dados, sort = 'descending', \n",
        "         figsize = (12,4),\n",
        "         fontsize = 12,\n",
        "         color = color, \n",
        "         labels = 'off',filter = 'top')"
      ],
      "execution_count": null,
      "outputs": [
        {
          "output_type": "execute_result",
          "data": {
            "text/plain": [
              "<matplotlib.axes._subplots.AxesSubplot at 0x7fddb5ab8e50>"
            ]
          },
          "metadata": {},
          "execution_count": 15
        },
        {
          "output_type": "display_data",
          "data": {
            "image/png": "[encoded data removed]",
            "text/plain": [
              "<Figure size 864x288 with 3 Axes>"
            ]
          },
          "metadata": {
            "needs_background": "light"
          }
        }
      ]
    },
    {
      "cell_type": "code",
      "metadata": {
        "id": "0NWNPrDgWbOO"
      },
      "source": [
        "dados['bmi'] = dados['bmi'].fillna(round(dados['bmi'].median(), 2))\n",
        "dados['smoking_status'].fillna(dados['smoking_status'].mode()[0], inplace = True)"
      ],
      "execution_count": null,
      "outputs": []
    },
    {
      "cell_type": "code",
      "metadata": {
        "colab": {
          "base_uri": "https://localhost:8080/"
        },
        "id": "kfgFBoIBXL1u",
        "outputId": "2056fb11-5df1-42ea-916d-7736dbc16731"
      },
      "source": [
        "dados.isna().sum()"
      ],
      "execution_count": null,
      "outputs": [
        {
          "output_type": "execute_result",
          "data": {
            "text/plain": [
              "gender               0\n",
              "age                  0\n",
              "hypertension         0\n",
              "heart_disease        0\n",
              "ever_married         0\n",
              "work_type            0\n",
              "Residence_type       0\n",
              "avg_glucose_level    0\n",
              "bmi                  0\n",
              "smoking_status       0\n",
              "stroke               0\n",
              "dtype: int64"
            ]
          },
          "metadata": {},
          "execution_count": 17
        }
      ]
    },
    {
      "cell_type": "code",
      "metadata": {
        "colab": {
          "base_uri": "https://localhost:8080/"
        },
        "id": "69SpNcL6-G_Z",
        "outputId": "fc3e2bbf-b2ad-4c1a-8dba-d4608a5b8d5f"
      },
      "source": [
        "sns.countplot(x='stroke', data=dados)"
      ],
      "execution_count": null,
      "outputs": [
        {
          "output_type": "execute_result",
          "data": {
            "text/plain": [
              "<matplotlib.axes._subplots.AxesSubplot at 0x7fddb5b782d0>"
            ]
          },
          "metadata": {},
          "execution_count": 18
        },
        {
          "output_type": "display_data",
          "data": {
            "image/png": "[encoded data removed]",
            "text/plain": [
              "<Figure size 432x288 with 1 Axes>"
            ]
          },
          "metadata": {
            "needs_background": "light"
          }
        }
      ]
    },
    {
      "cell_type": "code",
      "metadata": {
        "colab": {
          "base_uri": "https://localhost:8080/"
        },
        "id": "P6FcHATJCArj",
        "outputId": "04ab5137-3d55-430c-f967-c674f19ac380"
      },
      "source": [
        "plt.figure(figsize=(10, 8))\n",
        "sns.boxplot(data = dados[[\"age\",\"avg_glucose_level\",\"bmi\"]])"
      ],
      "execution_count": null,
      "outputs": [
        {
          "output_type": "execute_result",
          "data": {
            "text/plain": [
              "<matplotlib.axes._subplots.AxesSubplot at 0x7fdda8af73d0>"
            ]
          },
          "metadata": {},
          "execution_count": 19
        },
        {
          "output_type": "display_data",
          "data": {
            "image/png": "[encoded data removed]",
            "text/plain": [
              "<Figure size 720x576 with 1 Axes>"
            ]
          },
          "metadata": {
            "needs_background": "light"
          }
        }
      ]
    },
    {
      "cell_type": "markdown",
      "metadata": {
        "id": "Tn8g4SYCkmCT"
      },
      "source": [
        "## Teste do modelo"
      ]
    },
    {
      "cell_type": "markdown",
      "metadata": {
        "id": "SNkECNxMlErs"
      },
      "source": [
        "Base desbalanceada"
      ]
    },
    {
      "cell_type": "code",
      "metadata": {
        "colab": {
          "base_uri": "https://localhost:8080/"
        },
        "id": "JTJKRClzq9cM",
        "outputId": "c9ca4348-423a-4204-bf5b-0b51a5cc7eeb"
      },
      "source": [
        "X = dados[[\"gender\",\"age\",\"hypertension\",\"heart_disease\",\"ever_married\",\"work_type\",\"Residence_type\",\"avg_glucose_level\",\"bmi\",\"smoking_status\"]]\n",
        "y = dados[\"stroke\"]\n",
        "\n",
        "originalclass = []\n",
        "predictedclass = []\n",
        "\n",
        "X = pd.get_dummies(X,drop_first=True)\n",
        "\n",
        "def classification_report_with_accuracy_score(y_true, y_pred):\n",
        "    originalclass.extend(y_true)\n",
        "    predictedclass.extend(y_pred)\n",
        "    return accuracy_score(y_true, y_pred)\n",
        "\n",
        "modelo = DecisionTreeClassifier()\n",
        "scores = cross_val_score(modelo, X, y, cv=10, scoring=make_scorer(classification_report_with_accuracy_score))\n",
        "print(classification_report(originalclass, predictedclass))"
      ],
      "execution_count": null,
      "outputs": [
        {
          "output_type": "stream",
          "name": "stdout",
          "text": [
            "              precision    recall  f1-score   support\n",
            "\n",
            "           0       0.96      0.95      0.95      4861\n",
            "           1       0.14      0.17      0.15       249\n",
            "\n",
            "    accuracy                           0.91      5110\n",
            "   macro avg       0.55      0.56      0.55      5110\n",
            "weighted avg       0.92      0.91      0.91      5110\n",
            "\n"
          ]
        }
      ]
    },
    {
      "cell_type": "markdown",
      "metadata": {
        "id": "hch9vL2kS25f"
      },
      "source": [
        "Base balanceada (Oversampling)"
      ]
    },
    {
      "cell_type": "code",
      "metadata": {
        "id": "_Zh9N_EWbnsE",
        "colab": {
          "base_uri": "https://localhost:8080/"
        },
        "outputId": "5bf00a31-cdbd-457b-a3b6-285f27fe050e"
      },
      "source": [
        "classifier = DecisionTreeClassifier(random_state=42)\n",
        "X = dados[[\"gender\",\"age\",\"hypertension\",\"heart_disease\",\"ever_married\",\"work_type\",\"Residence_type\",\"avg_glucose_level\",\"bmi\",\"smoking_status\"]]\n",
        "y = dados[\"stroke\"]\n",
        "\n",
        "originalclass = []\n",
        "predictedclass = []\n",
        "\n",
        "X = pd.get_dummies(X,drop_first=True)\n",
        "\n",
        "X_train, X_test, y_train, y_test = train_test_split(X, y,test_size=0.25, random_state=2)\n",
        "\n",
        "kf = KFold(n_splits=10)\n",
        "for train, test in kf.split(X_train, y_train):\n",
        "    pipeline = make_pipeline_imb(SMOTE(), classifier)\n",
        "    model = pipeline.fit(X_train.iloc[train], y_train.iloc[train])\n",
        "    prediction = model.predict(X_train.iloc[test])\n",
        "\n",
        "    originalclass.extend(y_train.iloc[test])\n",
        "    predictedclass.extend(prediction)\n",
        "\n",
        "print(classification_report(originalclass, predictedclass))"
      ],
      "execution_count": null,
      "outputs": [
        {
          "output_type": "stream",
          "name": "stdout",
          "text": [
            "              precision    recall  f1-score   support\n",
            "\n",
            "           0       0.96      0.91      0.93      3646\n",
            "           1       0.12      0.26      0.17       186\n",
            "\n",
            "    accuracy                           0.88      3832\n",
            "   macro avg       0.54      0.58      0.55      3832\n",
            "weighted avg       0.92      0.88      0.90      3832\n",
            "\n"
          ]
        }
      ]
    },
    {
      "cell_type": "code",
      "metadata": {
        "colab": {
          "base_uri": "https://localhost:8080/",
          "height": 235
        },
        "id": "zz2IOZ2Iv9R1",
        "outputId": "6f68156f-3031-4cbb-d7ee-cbceb46f7865"
      },
      "source": [
        "classifier = DecisionTreeClassifier\n",
        "X = dados[[\"gender\",\"age\",\"hypertension\",\"heart_disease\",\"ever_married\",\"work_type\",\"Residence_type\",\"avg_glucose_level\",\"bmi\",\"smoking_status\"]]\n",
        "y = dados[\"stroke\"]\n",
        "\n",
        "originalclass = []\n",
        "predictedclass = []\n",
        "\n",
        "X = pd.get_dummies(X,drop_first=True)\n",
        "\n",
        "X_train, X_test, y_train, y_test = train_test_split(X, y,test_size=0.25, random_state=2)\n",
        "\n",
        "kf = KFold(n_splits=25)\n",
        "\n",
        "for fold, (train_index, test_index) in enumerate(kf.split(X), 1):\n",
        "    X_train = X.iloc[train_index]\n",
        "    y_train = y.iloc[train_index]\n",
        "    X_test = X.iloc[test_index]\n",
        "    y_test = y.iloc[test_index] \n",
        "    sm = SMOTE()\n",
        "    X_train_oversampled, y_train_oversampled = sm.fit_sample(X_train, y_train)\n",
        "    model = DecisionTreeClassifier()\n",
        "    model.fit(X_train_oversampled, y_train_oversampled )  \n",
        "    y_pred = model.predict(X_test)\n",
        "\n",
        "    originalclass.extend(y_test)\n",
        "    predictedclass.extend(y_pred)\n",
        "\n",
        "print(classification_report(originalclass, predictedclass))"
      ],
      "execution_count": null,
      "outputs": [
        {
          "output_type": "error",
          "ename": "AttributeError",
          "evalue": "ignored",
          "traceback": [
            "\u001b[0;31m---------------------------------------------------------------------------\u001b[0m",
            "\u001b[0;31mAttributeError\u001b[0m                            Traceback (most recent call last)",
            "\u001b[0;32m<ipython-input-24-4f928555a35a>\u001b[0m in \u001b[0;36m<module>\u001b[0;34m()\u001b[0m\n\u001b[1;32m     18\u001b[0m     \u001b[0my_test\u001b[0m \u001b[0;34m=\u001b[0m \u001b[0my\u001b[0m\u001b[0;34m.\u001b[0m\u001b[0miloc\u001b[0m\u001b[0;34m[\u001b[0m\u001b[0mtest_index\u001b[0m\u001b[0;34m]\u001b[0m\u001b[0;34m\u001b[0m\u001b[0;34m\u001b[0m\u001b[0m\n\u001b[1;32m     19\u001b[0m     \u001b[0msm\u001b[0m \u001b[0;34m=\u001b[0m \u001b[0mSMOTE\u001b[0m\u001b[0;34m(\u001b[0m\u001b[0;34m)\u001b[0m\u001b[0;34m\u001b[0m\u001b[0;34m\u001b[0m\u001b[0m\n\u001b[0;32m---> 20\u001b[0;31m     \u001b[0mX_train_oversampled\u001b[0m\u001b[0;34m,\u001b[0m \u001b[0my_train_oversampled\u001b[0m \u001b[0;34m=\u001b[0m \u001b[0msm\u001b[0m\u001b[0;34m.\u001b[0m\u001b[0mfit_sample\u001b[0m\u001b[0;34m(\u001b[0m\u001b[0mX_train\u001b[0m\u001b[0;34m,\u001b[0m \u001b[0my_train\u001b[0m\u001b[0;34m)\u001b[0m\u001b[0;34m\u001b[0m\u001b[0;34m\u001b[0m\u001b[0m\n\u001b[0m\u001b[1;32m     21\u001b[0m     \u001b[0mmodel\u001b[0m \u001b[0;34m=\u001b[0m \u001b[0mDecisionTreeClassifier\u001b[0m\u001b[0;34m(\u001b[0m\u001b[0;34m)\u001b[0m\u001b[0;34m\u001b[0m\u001b[0;34m\u001b[0m\u001b[0m\n\u001b[1;32m     22\u001b[0m     \u001b[0mmodel\u001b[0m\u001b[0;34m.\u001b[0m\u001b[0mfit\u001b[0m\u001b[0;34m(\u001b[0m\u001b[0mX_train_oversampled\u001b[0m\u001b[0;34m,\u001b[0m \u001b[0my_train_oversampled\u001b[0m \u001b[0;34m)\u001b[0m\u001b[0;34m\u001b[0m\u001b[0;34m\u001b[0m\u001b[0m\n",
            "\u001b[0;31mAttributeError\u001b[0m: 'SMOTE' object has no attribute 'fit_sample'"
          ]
        }
      ]
    },
    {
      "cell_type": "markdown",
      "metadata": {
        "id": "_ooX3_G40nr1"
      },
      "source": [
        "Base balanceada (Undersampling)"
      ]
    },
    {
      "cell_type": "code",
      "metadata": {
        "colab": {
          "base_uri": "https://localhost:8080/",
          "height": 235
        },
        "id": "FuK4-9PDPvIi",
        "outputId": "865675e3-89f7-4533-f212-01b152b2b23d"
      },
      "source": [
        "X = dados[[\"gender\",\"age\",\"hypertension\",\"heart_disease\",\"ever_married\",\"work_type\",\"Residence_type\",\"avg_glucose_level\",\"bmi\",\"smoking_status\"]]\n",
        "y = dados[\"stroke\"]\n",
        "\n",
        "originalclass = []\n",
        "predictedclass = []\n",
        "\n",
        "X = pd.get_dummies(X,drop_first=True)\n",
        "\n",
        "models = {\n",
        "    'DecisionTreeClassifier': DecisionTreeClassifier(random_state=42),\n",
        "    'RandomForestClassifier': RandomForestClassifier(random_state=42),\n",
        "    'AdaBoostClassifier': AdaBoostClassifier(random_state=42),\n",
        "    'KNeighborsClassifier': KNeighborsClassifier(),\n",
        "}\n",
        "\n",
        "X_train, X_test, y_train, y_test = train_test_split(X, y, test_size=0.1)\n",
        "\n",
        "for m in models:\n",
        "  model = models[m]\n",
        "  kf = KFold(n_splits=10)\n",
        "  X, y = NearMiss().fit_sample(X_train, y_train)\n",
        "  for train, test in kf.split(X, y):\n",
        "      pipeline = make_pipeline(model)\n",
        "      model = pipeline.fit(X[train], y[train])\n",
        "      prediction = model.predict(X[test])\n",
        "\n",
        "      originalclass.extend(y[test])\n",
        "      predictedclass.extend(prediction)\n",
        "  print(classification_report(originalclass, predictedclass))\n",
        "  originalclass = []\n",
        "  predictedclass = []"
      ],
      "execution_count": null,
      "outputs": [
        {
          "output_type": "error",
          "ename": "AttributeError",
          "evalue": "ignored",
          "traceback": [
            "\u001b[0;31m---------------------------------------------------------------------------\u001b[0m",
            "\u001b[0;31mAttributeError\u001b[0m                            Traceback (most recent call last)",
            "\u001b[0;32m<ipython-input-25-ddd6fc20fbc0>\u001b[0m in \u001b[0;36m<module>\u001b[0;34m()\u001b[0m\n\u001b[1;32m     19\u001b[0m   \u001b[0mmodel\u001b[0m \u001b[0;34m=\u001b[0m \u001b[0mmodels\u001b[0m\u001b[0;34m[\u001b[0m\u001b[0mm\u001b[0m\u001b[0;34m]\u001b[0m\u001b[0;34m\u001b[0m\u001b[0;34m\u001b[0m\u001b[0m\n\u001b[1;32m     20\u001b[0m   \u001b[0mkf\u001b[0m \u001b[0;34m=\u001b[0m \u001b[0mKFold\u001b[0m\u001b[0;34m(\u001b[0m\u001b[0mn_splits\u001b[0m\u001b[0;34m=\u001b[0m\u001b[0;36m10\u001b[0m\u001b[0;34m)\u001b[0m\u001b[0;34m\u001b[0m\u001b[0;34m\u001b[0m\u001b[0m\n\u001b[0;32m---> 21\u001b[0;31m   \u001b[0mX\u001b[0m\u001b[0;34m,\u001b[0m \u001b[0my\u001b[0m \u001b[0;34m=\u001b[0m \u001b[0mNearMiss\u001b[0m\u001b[0;34m(\u001b[0m\u001b[0;34m)\u001b[0m\u001b[0;34m.\u001b[0m\u001b[0mfit_sample\u001b[0m\u001b[0;34m(\u001b[0m\u001b[0mX_train\u001b[0m\u001b[0;34m,\u001b[0m \u001b[0my_train\u001b[0m\u001b[0;34m)\u001b[0m\u001b[0;34m\u001b[0m\u001b[0;34m\u001b[0m\u001b[0m\n\u001b[0m\u001b[1;32m     22\u001b[0m   \u001b[0;32mfor\u001b[0m \u001b[0mtrain\u001b[0m\u001b[0;34m,\u001b[0m \u001b[0mtest\u001b[0m \u001b[0;32min\u001b[0m \u001b[0mkf\u001b[0m\u001b[0;34m.\u001b[0m\u001b[0msplit\u001b[0m\u001b[0;34m(\u001b[0m\u001b[0mX\u001b[0m\u001b[0;34m,\u001b[0m \u001b[0my\u001b[0m\u001b[0;34m)\u001b[0m\u001b[0;34m:\u001b[0m\u001b[0;34m\u001b[0m\u001b[0;34m\u001b[0m\u001b[0m\n\u001b[1;32m     23\u001b[0m       \u001b[0mpipeline\u001b[0m \u001b[0;34m=\u001b[0m \u001b[0mmake_pipeline\u001b[0m\u001b[0;34m(\u001b[0m\u001b[0mmodel\u001b[0m\u001b[0;34m)\u001b[0m\u001b[0;34m\u001b[0m\u001b[0;34m\u001b[0m\u001b[0m\n",
            "\u001b[0;31mAttributeError\u001b[0m: 'NearMiss' object has no attribute 'fit_sample'"
          ]
        }
      ]
    },
    {
      "cell_type": "code",
      "metadata": {
        "colab": {
          "base_uri": "https://localhost:8080/"
        },
        "id": "9taNeTIKhPJ0",
        "outputId": "9f47a76d-4311-404a-ce44-e0b9f9c4aff0"
      },
      "source": [
        "classifier = RandomForestClassifier(random_state=42)\n",
        "X = dados[[\"gender\",\"age\",\"hypertension\",\"heart_disease\",\"ever_married\",\"work_type\",\"Residence_type\",\"avg_glucose_level\",\"bmi\",\"smoking_status\"]]\n",
        "y = dados[\"stroke\"]\n",
        "\n",
        "originalclass = []\n",
        "predictedclass = []\n",
        "\n",
        "X = pd.get_dummies(X,drop_first=True)\n",
        "\n",
        "X_train, X_test, y_train, y_test = train_test_split(X, y, test_size=0.05)\n",
        "\n",
        "kf = KFold(n_splits=10)\n",
        "X, y = NearMiss().fit_sample(X_train, y_train)\n",
        "for train, test in kf.split(X, y):\n",
        "    pipeline = make_pipeline(classifier)\n",
        "    model = pipeline.fit(X[train], y[train])\n",
        "    prediction = model.predict(X[test])\n",
        "\n",
        "    originalclass.extend(y[test])\n",
        "    predictedclass.extend(prediction)\n",
        "\n",
        "print(classification_report(originalclass, predictedclass))"
      ],
      "execution_count": null,
      "outputs": [
        {
          "output_type": "stream",
          "text": [
            "              precision    recall  f1-score   support\n",
            "\n",
            "           0       0.59      0.61      0.60       236\n",
            "           1       0.60      0.58      0.59       236\n",
            "\n",
            "    accuracy                           0.59       472\n",
            "   macro avg       0.59      0.59      0.59       472\n",
            "weighted avg       0.59      0.59      0.59       472\n",
            "\n"
          ],
          "name": "stdout"
        }
      ]
    },
    {
      "cell_type": "markdown",
      "metadata": {
        "id": "zdyaoWcrAJZD"
      },
      "source": [
        "Score de modelos com a base desbalanceada"
      ]
    },
    {
      "cell_type": "code",
      "metadata": {
        "colab": {
          "base_uri": "https://localhost:8080/"
        },
        "id": "UbzurK3BAShI",
        "outputId": "0df98fa9-eb26-4298-dc8d-971aee202e00"
      },
      "source": [
        "X = dados[[\"gender\",\"age\",\"hypertension\",\"heart_disease\",\"ever_married\",\"work_type\",\"Residence_type\",\"avg_glucose_level\",\"bmi\",\"smoking_status\"]]\n",
        "y = dados[\"stroke\"]\n",
        "\n",
        "originalclass = []\n",
        "predictedclass = []\n",
        "\n",
        "X = pd.get_dummies(X,drop_first=True)\n",
        "\n",
        "X_train, X_test, y_train, y_test = train_test_split(X, y, test_size=0.05)\n",
        "\n",
        "models = {\n",
        "    'AdaBoostClassifier': AdaBoostClassifier(),\n",
        "    'GaussianNB': GaussianNB(),\n",
        "    'BernoulliNB': BernoulliNB(),\n",
        "    'LogisticRegression': LogisticRegression(),\n",
        "    'RandomForestClassifier': RandomForestClassifier(),\n",
        "    'SupportVectorMachine': SVC(),\n",
        "    'DecisionTreeClassifier': DecisionTreeClassifier(),\n",
        "    'KNeighborsClassifier': KNeighborsClassifier(),\n",
        "    'GradientBoostingClassifier': GradientBoostingClassifier(),\n",
        "    'Stochastic Gradient Descent':  SGDClassifier(max_iter=5000, random_state=0),\n",
        "}\n",
        "\n",
        "def classification_report_with_accuracy_score(y_true, y_pred):\n",
        "  originalclass.extend(y_true)\n",
        "  predictedclass.extend(y_pred)\n",
        "  return accuracy_score(y_true, y_pred)\n",
        "\n",
        "for m in models:\n",
        "  model = models[m]\n",
        "  scores = cross_val_score(model, X, y, cv=10, scoring=make_scorer(classification_report_with_accuracy_score))\n",
        "  print(classification_report(originalclass, predictedclass))\n",
        "  originalclass = []\n",
        "  predictedclass = []"
      ],
      "execution_count": null,
      "outputs": [
        {
          "output_type": "stream",
          "text": [
            "              precision    recall  f1-score   support\n",
            "\n",
            "           0       0.95      1.00      0.97      4861\n",
            "           1       0.27      0.01      0.02       249\n",
            "\n",
            "    accuracy                           0.95      5110\n",
            "   macro avg       0.61      0.51      0.50      5110\n",
            "weighted avg       0.92      0.95      0.93      5110\n",
            "\n",
            "              precision    recall  f1-score   support\n",
            "\n",
            "           0       1.00      0.39      0.56      4861\n",
            "           1       0.08      0.98      0.14       249\n",
            "\n",
            "    accuracy                           0.42      5110\n",
            "   macro avg       0.54      0.69      0.35      5110\n",
            "weighted avg       0.95      0.42      0.54      5110\n",
            "\n",
            "              precision    recall  f1-score   support\n",
            "\n",
            "           0       0.95      0.99      0.97      4861\n",
            "           1       0.24      0.03      0.06       249\n",
            "\n",
            "    accuracy                           0.95      5110\n",
            "   macro avg       0.59      0.51      0.51      5110\n",
            "weighted avg       0.92      0.95      0.93      5110\n",
            "\n",
            "              precision    recall  f1-score   support\n",
            "\n",
            "           0       0.95      1.00      0.97      4861\n",
            "           1       0.33      0.00      0.01       249\n",
            "\n",
            "    accuracy                           0.95      5110\n",
            "   macro avg       0.64      0.50      0.49      5110\n",
            "weighted avg       0.92      0.95      0.93      5110\n",
            "\n",
            "              precision    recall  f1-score   support\n",
            "\n",
            "           0       0.95      1.00      0.97      4861\n",
            "           1       0.17      0.01      0.02       249\n",
            "\n",
            "    accuracy                           0.95      5110\n",
            "   macro avg       0.56      0.50      0.50      5110\n",
            "weighted avg       0.91      0.95      0.93      5110\n",
            "\n",
            "              precision    recall  f1-score   support\n",
            "\n",
            "           0       0.95      1.00      0.98      4861\n",
            "           1       0.00      0.00      0.00       249\n",
            "\n",
            "    accuracy                           0.95      5110\n",
            "   macro avg       0.48      0.50      0.49      5110\n",
            "weighted avg       0.90      0.95      0.93      5110\n",
            "\n",
            "              precision    recall  f1-score   support\n",
            "\n",
            "           0       0.96      0.95      0.95      4861\n",
            "           1       0.14      0.17      0.16       249\n",
            "\n",
            "    accuracy                           0.91      5110\n",
            "   macro avg       0.55      0.56      0.55      5110\n",
            "weighted avg       0.92      0.91      0.91      5110\n",
            "\n",
            "              precision    recall  f1-score   support\n",
            "\n",
            "           0       0.95      0.99      0.97      4861\n",
            "           1       0.10      0.02      0.03       249\n",
            "\n",
            "    accuracy                           0.94      5110\n",
            "   macro avg       0.53      0.51      0.50      5110\n",
            "weighted avg       0.91      0.94      0.93      5110\n",
            "\n",
            "              precision    recall  f1-score   support\n",
            "\n",
            "           0       0.95      1.00      0.97      4861\n",
            "           1       0.07      0.00      0.01       249\n",
            "\n",
            "    accuracy                           0.95      5110\n",
            "   macro avg       0.51      0.50      0.49      5110\n",
            "weighted avg       0.91      0.95      0.93      5110\n",
            "\n",
            "              precision    recall  f1-score   support\n",
            "\n",
            "           0       0.95      1.00      0.97      4861\n",
            "           1       0.33      0.00      0.01       249\n",
            "\n",
            "    accuracy                           0.95      5110\n",
            "   macro avg       0.64      0.50      0.49      5110\n",
            "weighted avg       0.92      0.95      0.93      5110\n",
            "\n"
          ],
          "name": "stdout"
        }
      ]
    },
    {
      "cell_type": "markdown",
      "metadata": {
        "id": "I8uaj1sGOWvk"
      },
      "source": [
        "Otimização de parâmetros (Undersampling)"
      ]
    },
    {
      "cell_type": "code",
      "metadata": {
        "id": "Wb6XBMRWNvOs",
        "colab": {
          "base_uri": "https://localhost:8080/"
        },
        "outputId": "a87b1d58-a5d7-422a-d4d8-445b0950811b"
      },
      "source": [
        "knn_model = KNeighborsClassifier()\n",
        "\n",
        "parameters = {'n_neighbors': [2,3,5,7,9,11,15,20],\n",
        "              'algorithm': ['auto', 'ball_tree', 'kd_tree', 'brute'],\n",
        "             'weights': ['uniform', 'distance'],\n",
        "             'metric': ['manhattan', 'euclidean', 'minkowski', 'cosine', 'jaccard', 'hamming']\n",
        "             }\n",
        "\n",
        "X, y = NearMiss().fit_sample(X_train, y_train)\n",
        "gcv = GridSearchCV(knn_model, parameters, cv=5, verbose = 1, n_jobs = -1).fit(X, y)\n",
        "\n",
        "print(f'GridSearchView Best Score: {gcv.best_score_*100}')\n",
        "print(f'GridSearchView Best Estimator: {gcv.best_estimator_}')\n",
        "print(f'GridSearchView Best Params: {gcv.best_params_}')"
      ],
      "execution_count": null,
      "outputs": [
        {
          "output_type": "stream",
          "text": [
            "Fitting 5 folds for each of 384 candidates, totalling 1920 fits\n"
          ],
          "name": "stdout"
        },
        {
          "output_type": "stream",
          "text": [
            "[Parallel(n_jobs=-1)]: Using backend LokyBackend with 2 concurrent workers.\n",
            "[Parallel(n_jobs=-1)]: Done 988 tasks      | elapsed:    3.2s\n"
          ],
          "name": "stderr"
        },
        {
          "output_type": "stream",
          "text": [
            "GridSearchView Best Score: 67.78735632183907\n",
            "GridSearchView Best Estimator: KNeighborsClassifier(algorithm='auto', leaf_size=30, metric='euclidean',\n",
            "                     metric_params=None, n_jobs=None, n_neighbors=20, p=2,\n",
            "                     weights='uniform')\n",
            "GridSearchView Best Params: {'algorithm': 'auto', 'metric': 'euclidean', 'n_neighbors': 20, 'weights': 'uniform'}\n"
          ],
          "name": "stdout"
        },
        {
          "output_type": "stream",
          "text": [
            "[Parallel(n_jobs=-1)]: Done 1920 out of 1920 | elapsed:    5.5s finished\n"
          ],
          "name": "stderr"
        }
      ]
    },
    {
      "cell_type": "code",
      "metadata": {
        "colab": {
          "base_uri": "https://localhost:8080/"
        },
        "id": "DBgjXwrXSRit",
        "outputId": "59dd595b-40b5-42c3-a216-426f9d58f950"
      },
      "source": [
        "X = dados[[\"gender\",\"age\",\"hypertension\",\"heart_disease\",\"ever_married\",\"work_type\",\"Residence_type\",\"avg_glucose_level\",\"bmi\",\"smoking_status\"]]\n",
        "y = dados[\"stroke\"]\n",
        "\n",
        "originalclass = []\n",
        "predictedclass = []\n",
        "\n",
        "X = pd.get_dummies(X,drop_first=True)\n",
        "\n",
        "models = {\n",
        "    'KNeighborsClassifier': KNeighborsClassifier(algorithm='auto', leaf_size=30, metric='euclidean',\n",
        "                     metric_params=None, n_jobs=None, n_neighbors=20, p=2,\n",
        "                     weights='uniform'),\n",
        "}\n",
        "\n",
        "X_train, X_test, y_train, y_test = train_test_split(X, y, test_size=0.1)\n",
        "\n",
        "for m in models:\n",
        "  model = models[m]\n",
        "  kf = KFold(n_splits=10)\n",
        "  X, y = NearMiss().fit_sample(X_train, y_train)\n",
        "  for train, test in kf.split(X, y):\n",
        "      pipeline = make_pipeline(model)\n",
        "      model = pipeline.fit(X[train], y[train])\n",
        "      prediction = model.predict(X[test])\n",
        "\n",
        "      originalclass.extend(y[test])\n",
        "      predictedclass.extend(prediction)\n",
        "  print(classification_report(originalclass, predictedclass))\n",
        "  originalclass = []\n",
        "  predictedclass = []"
      ],
      "execution_count": null,
      "outputs": [
        {
          "output_type": "stream",
          "text": [
            "              precision    recall  f1-score   support\n",
            "\n",
            "           0       0.60      0.86      0.71       220\n",
            "           1       0.75      0.42      0.54       220\n",
            "\n",
            "    accuracy                           0.64       440\n",
            "   macro avg       0.67      0.64      0.62       440\n",
            "weighted avg       0.67      0.64      0.62       440\n",
            "\n"
          ],
          "name": "stdout"
        }
      ]
    },
    {
      "cell_type": "code",
      "metadata": {
        "colab": {
          "base_uri": "https://localhost:8080/"
        },
        "id": "2ruQJExAVw49",
        "outputId": "d13ecf79-026f-4d02-fd85-16822a845cb5"
      },
      "source": [
        "ada_model = AdaBoostClassifier()\n",
        "\n",
        "parameters = {'n_estimators':[500,1000,2000],'learning_rate':[.001,0.01,.1]}\n",
        "\n",
        "X, y = NearMiss().fit_sample(X_train, y_train)\n",
        "gcv = GridSearchCV(ada_model, parameters, cv=5, verbose = 1, n_jobs = -1).fit(X, y)\n",
        "\n",
        "print(f'GridSearchView Best Score: {gcv.best_score_*100}')\n",
        "print(f'GridSearchView Best Estimator: {gcv.best_estimator_}')\n",
        "print(f'GridSearchView Best Params: {gcv.best_params_}')"
      ],
      "execution_count": null,
      "outputs": [
        {
          "output_type": "stream",
          "text": [
            "Fitting 5 folds for each of 9 candidates, totalling 45 fits\n"
          ],
          "name": "stdout"
        },
        {
          "output_type": "stream",
          "text": [
            "[Parallel(n_jobs=-1)]: Using backend LokyBackend with 2 concurrent workers.\n",
            "[Parallel(n_jobs=-1)]: Done  45 out of  45 | elapsed:  1.1min finished\n"
          ],
          "name": "stderr"
        },
        {
          "output_type": "stream",
          "text": [
            "GridSearchView Best Score: 68.63636363636364\n",
            "GridSearchView Best Estimator: AdaBoostClassifier(algorithm='SAMME.R', base_estimator=None,\n",
            "                   learning_rate=0.001, n_estimators=2000, random_state=None)\n",
            "GridSearchView Best Params: {'learning_rate': 0.001, 'n_estimators': 2000}\n"
          ],
          "name": "stdout"
        }
      ]
    },
    {
      "cell_type": "code",
      "metadata": {
        "colab": {
          "base_uri": "https://localhost:8080/"
        },
        "id": "rn0dAHVVWBXS",
        "outputId": "74d9110c-51a4-40f4-f3a9-dd928d840cb4"
      },
      "source": [
        "X = dados[[\"gender\",\"age\",\"hypertension\",\"heart_disease\",\"ever_married\",\"work_type\",\"Residence_type\",\"avg_glucose_level\",\"bmi\",\"smoking_status\"]]\n",
        "y = dados[\"stroke\"]\n",
        "\n",
        "originalclass = []\n",
        "predictedclass = []\n",
        "\n",
        "X = pd.get_dummies(X,drop_first=True)\n",
        "\n",
        "models = {\n",
        "    'AdaBoostClassifier': AdaBoostClassifier(algorithm='SAMME.R', base_estimator=None,\n",
        "                   learning_rate=0.001, n_estimators=2000, random_state=None),\n",
        "}\n",
        "\n",
        "X_train, X_test, y_train, y_test = train_test_split(X, y, test_size=0.1)\n",
        "\n",
        "for m in models:\n",
        "  model = models[m]\n",
        "  kf = KFold(n_splits=10)\n",
        "  X, y = NearMiss().fit_sample(X_train, y_train)\n",
        "  for train, test in kf.split(X, y):\n",
        "      pipeline = make_pipeline(model)\n",
        "      model = pipeline.fit(X[train], y[train])\n",
        "      prediction = model.predict(X[test])\n",
        "\n",
        "      originalclass.extend(y[test])\n",
        "      predictedclass.extend(prediction)\n",
        "  print(classification_report(originalclass, predictedclass))\n",
        "  originalclass = []\n",
        "  predictedclass = []"
      ],
      "execution_count": null,
      "outputs": [
        {
          "output_type": "stream",
          "text": [
            "              precision    recall  f1-score   support\n",
            "\n",
            "           0       0.62      0.82      0.71       225\n",
            "           1       0.73      0.50      0.60       225\n",
            "\n",
            "    accuracy                           0.66       450\n",
            "   macro avg       0.68      0.66      0.65       450\n",
            "weighted avg       0.68      0.66      0.65       450\n",
            "\n"
          ],
          "name": "stdout"
        }
      ]
    },
    {
      "cell_type": "code",
      "metadata": {
        "colab": {
          "base_uri": "https://localhost:8080/"
        },
        "id": "DVJ5J3bQXAOH",
        "outputId": "9d58b298-ba5c-4ce0-9adf-10c2e0f95624"
      },
      "source": [
        "tree_model = DecisionTreeClassifier()\n",
        "\n",
        "parameters = {'criterion':['gini','entropy'],'max_depth':[4,5,6,7,8,9,10,11,12,15,20,30,40,50,70,90,120,150]}\n",
        "\n",
        "X, y = NearMiss().fit_sample(X_train, y_train)\n",
        "gcv = GridSearchCV(tree_model, parameters, cv=5, verbose = 1, n_jobs = -1).fit(X, y)\n",
        "\n",
        "print(f'GridSearchView Best Score: {gcv.best_score_*100}')\n",
        "print(f'GridSearchView Best Estimator: {gcv.best_estimator_}')\n",
        "print(f'GridSearchView Best Params: {gcv.best_params_}')"
      ],
      "execution_count": null,
      "outputs": [
        {
          "output_type": "stream",
          "text": [
            "Fitting 5 folds for each of 36 candidates, totalling 180 fits\n"
          ],
          "name": "stdout"
        },
        {
          "output_type": "stream",
          "text": [
            "[Parallel(n_jobs=-1)]: Using backend LokyBackend with 2 concurrent workers.\n"
          ],
          "name": "stderr"
        },
        {
          "output_type": "stream",
          "text": [
            "GridSearchView Best Score: 69.33333333333334\n",
            "GridSearchView Best Estimator: DecisionTreeClassifier(ccp_alpha=0.0, class_weight=None, criterion='gini',\n",
            "                       max_depth=6, max_features=None, max_leaf_nodes=None,\n",
            "                       min_impurity_decrease=0.0, min_impurity_split=None,\n",
            "                       min_samples_leaf=1, min_samples_split=2,\n",
            "                       min_weight_fraction_leaf=0.0, presort='deprecated',\n",
            "                       random_state=None, splitter='best')\n",
            "GridSearchView Best Params: {'criterion': 'gini', 'max_depth': 6}\n"
          ],
          "name": "stdout"
        },
        {
          "output_type": "stream",
          "text": [
            "[Parallel(n_jobs=-1)]: Done 166 tasks      | elapsed:    1.2s\n",
            "[Parallel(n_jobs=-1)]: Done 180 out of 180 | elapsed:    1.2s finished\n"
          ],
          "name": "stderr"
        }
      ]
    },
    {
      "cell_type": "code",
      "metadata": {
        "colab": {
          "base_uri": "https://localhost:8080/"
        },
        "id": "lUnhZgIEXcXz",
        "outputId": "f8d75732-e3fc-4e36-d877-2e7db5dac575"
      },
      "source": [
        "X = dados[[\"gender\",\"age\",\"hypertension\",\"heart_disease\",\"ever_married\",\"work_type\",\"Residence_type\",\"avg_glucose_level\",\"bmi\",\"smoking_status\"]]\n",
        "y = dados[\"stroke\"]\n",
        "\n",
        "originalclass = []\n",
        "predictedclass = []\n",
        "\n",
        "X = pd.get_dummies(X,drop_first=True)\n",
        "\n",
        "models = {\n",
        "    'DecisionTreeClassifier': DecisionTreeClassifier(ccp_alpha=0.0, class_weight=None, criterion='gini',\n",
        "                       max_depth=6, max_features=None, max_leaf_nodes=None,\n",
        "                       min_impurity_decrease=0.0, min_impurity_split=None,\n",
        "                       min_samples_leaf=1, min_samples_split=2,\n",
        "                       min_weight_fraction_leaf=0.0, presort='deprecated',\n",
        "                       random_state=None, splitter='best'),\n",
        "}\n",
        "\n",
        "X_train, X_test, y_train, y_test = train_test_split(X, y, test_size=0.1)\n",
        "\n",
        "for m in models:\n",
        "  model = models[m]\n",
        "  kf = KFold(n_splits=10)\n",
        "  X, y = NearMiss().fit_sample(X_train, y_train)\n",
        "  for train, test in kf.split(X, y):\n",
        "      pipeline = make_pipeline(model)\n",
        "      model = pipeline.fit(X[train], y[train])\n",
        "      prediction = model.predict(X[test])\n",
        "\n",
        "      originalclass.extend(y[test])\n",
        "      predictedclass.extend(prediction)\n",
        "  print(classification_report(originalclass, predictedclass))\n",
        "  originalclass = []\n",
        "  predictedclass = []"
      ],
      "execution_count": null,
      "outputs": [
        {
          "output_type": "stream",
          "text": [
            "              precision    recall  f1-score   support\n",
            "\n",
            "           0       0.59      0.73      0.65       232\n",
            "           1       0.64      0.49      0.55       232\n",
            "\n",
            "    accuracy                           0.61       464\n",
            "   macro avg       0.61      0.61      0.60       464\n",
            "weighted avg       0.61      0.61      0.60       464\n",
            "\n"
          ],
          "name": "stdout"
        }
      ]
    },
    {
      "cell_type": "markdown",
      "metadata": {
        "id": "CfivyWC4YH3L"
      },
      "source": [
        "Otimização de parâmetros (Desbalanceada)"
      ]
    },
    {
      "cell_type": "code",
      "metadata": {
        "colab": {
          "base_uri": "https://localhost:8080/"
        },
        "id": "xMjkaYnFYP3S",
        "outputId": "0ac30ed8-0eee-4d8d-9a74-ef0bd1e59719"
      },
      "source": [
        "knn_model = KNeighborsClassifier()\n",
        "\n",
        "parameters = {'n_neighbors': [2,3,5,7,9,11,15,20],\n",
        "              'algorithm': ['auto', 'ball_tree', 'kd_tree', 'brute'],\n",
        "             'weights': ['uniform', 'distance'],\n",
        "             'metric': ['manhattan', 'euclidean', 'minkowski', 'cosine', 'jaccard', 'hamming']\n",
        "             }\n",
        "\n",
        "gcv = GridSearchCV(knn_model, parameters, cv=5, verbose = 1, n_jobs = -1).fit(X, y)\n",
        "\n",
        "print(f'GridSearchView Best Score: {gcv.best_score_*100}')\n",
        "print(f'GridSearchView Best Estimator: {gcv.best_estimator_}')\n",
        "print(f'GridSearchView Best Params: {gcv.best_params_}')"
      ],
      "execution_count": null,
      "outputs": [
        {
          "output_type": "stream",
          "text": [
            "Fitting 5 folds for each of 384 candidates, totalling 1920 fits\n"
          ],
          "name": "stdout"
        },
        {
          "output_type": "stream",
          "text": [
            "[Parallel(n_jobs=-1)]: Using backend LokyBackend with 2 concurrent workers.\n",
            "[Parallel(n_jobs=-1)]: Done 646 tasks      | elapsed:    3.1s\n"
          ],
          "name": "stderr"
        },
        {
          "output_type": "stream",
          "text": [
            "GridSearchView Best Score: 69.17718560074802\n",
            "GridSearchView Best Estimator: KNeighborsClassifier(algorithm='auto', leaf_size=30, metric='manhattan',\n",
            "                     metric_params=None, n_jobs=None, n_neighbors=20, p=2,\n",
            "                     weights='uniform')\n",
            "GridSearchView Best Params: {'algorithm': 'auto', 'metric': 'manhattan', 'n_neighbors': 20, 'weights': 'uniform'}\n"
          ],
          "name": "stdout"
        },
        {
          "output_type": "stream",
          "text": [
            "[Parallel(n_jobs=-1)]: Done 1920 out of 1920 | elapsed:    6.6s finished\n"
          ],
          "name": "stderr"
        }
      ]
    },
    {
      "cell_type": "code",
      "metadata": {
        "colab": {
          "base_uri": "https://localhost:8080/"
        },
        "id": "Ml7o1Y0EtV_4",
        "outputId": "65368f9e-2f0b-4253-e00c-0ee9ad3eef6e"
      },
      "source": [
        "X = dados[[\"gender\",\"age\",\"hypertension\",\"heart_disease\",\"ever_married\",\"work_type\",\"Residence_type\",\"avg_glucose_level\",\"bmi\",\"smoking_status\"]]\n",
        "y = dados[\"stroke\"]\n",
        "\n",
        "originalclass = []\n",
        "predictedclass = []\n",
        "\n",
        "X = pd.get_dummies(X,drop_first=True)\n",
        "\n",
        "def classification_report_with_accuracy_score(y_true, y_pred):\n",
        "    originalclass.extend(y_true)\n",
        "    predictedclass.extend(y_pred)\n",
        "    return accuracy_score(y_true, y_pred)\n",
        "\n",
        "knn_model = KNeighborsClassifier(algorithm='auto', leaf_size=30, metric='manhattan',\n",
        "                     metric_params=None, n_jobs=None, n_neighbors=20, p=2,\n",
        "                     weights='uniform')\n",
        "scores = cross_val_score(knn_model, X, y, cv=10, scoring=make_scorer(classification_report_with_accuracy_score))\n",
        "print(classification_report(originalclass, predictedclass))"
      ],
      "execution_count": null,
      "outputs": [
        {
          "output_type": "stream",
          "text": [
            "              precision    recall  f1-score   support\n",
            "\n",
            "           0       0.95      1.00      0.98      4861\n",
            "           1       0.00      0.00      0.00       249\n",
            "\n",
            "    accuracy                           0.95      5110\n",
            "   macro avg       0.48      0.50      0.49      5110\n",
            "weighted avg       0.90      0.95      0.93      5110\n",
            "\n"
          ],
          "name": "stdout"
        }
      ]
    },
    {
      "cell_type": "code",
      "metadata": {
        "colab": {
          "base_uri": "https://localhost:8080/"
        },
        "id": "nECCSSyYuCBp",
        "outputId": "36f2b1e2-c2e8-412a-9166-d1ffd3e0a8e7"
      },
      "source": [
        "ada_model = AdaBoostClassifier()\n",
        "\n",
        "parameters = {'n_estimators':[500,1000,2000],'learning_rate':[.001,0.01,.1]}\n",
        "\n",
        "gcv = GridSearchCV(ada_model, parameters, cv=5, verbose = 1, n_jobs = -1).fit(X_train, y_train)\n",
        "\n",
        "print(f'GridSearchView Best Score: {gcv.best_score_*100}')\n",
        "print(f'GridSearchView Best Estimator: {gcv.best_estimator_}')\n",
        "print(f'GridSearchView Best Params: {gcv.best_params_}')"
      ],
      "execution_count": null,
      "outputs": [
        {
          "output_type": "stream",
          "text": [
            "Fitting 5 folds for each of 9 candidates, totalling 45 fits\n"
          ],
          "name": "stdout"
        },
        {
          "output_type": "stream",
          "text": [
            "[Parallel(n_jobs=-1)]: Using backend LokyBackend with 2 concurrent workers.\n",
            "[Parallel(n_jobs=-1)]: Done  45 out of  45 | elapsed:  2.5min finished\n"
          ],
          "name": "stderr"
        },
        {
          "output_type": "stream",
          "text": [
            "GridSearchView Best Score: 94.95543359984862\n",
            "GridSearchView Best Estimator: AdaBoostClassifier(algorithm='SAMME.R', base_estimator=None,\n",
            "                   learning_rate=0.001, n_estimators=500, random_state=None)\n",
            "GridSearchView Best Params: {'learning_rate': 0.001, 'n_estimators': 500}\n"
          ],
          "name": "stdout"
        }
      ]
    },
    {
      "cell_type": "code",
      "metadata": {
        "colab": {
          "base_uri": "https://localhost:8080/"
        },
        "id": "U6vcnRo3uOaX",
        "outputId": "6fe30957-4ddf-4cfd-a2c9-9e3c7cef9e03"
      },
      "source": [
        "X = dados[[\"gender\",\"age\",\"hypertension\",\"heart_disease\",\"ever_married\",\"work_type\",\"Residence_type\",\"avg_glucose_level\",\"bmi\",\"smoking_status\"]]\n",
        "y = dados[\"stroke\"]\n",
        "\n",
        "originalclass = []\n",
        "predictedclass = []\n",
        "\n",
        "X = pd.get_dummies(X,drop_first=True)\n",
        "\n",
        "def classification_report_with_accuracy_score(y_true, y_pred):\n",
        "    originalclass.extend(y_true)\n",
        "    predictedclass.extend(y_pred)\n",
        "    return accuracy_score(y_true, y_pred)\n",
        "\n",
        "ada_model = AdaBoostClassifier(algorithm='SAMME.R', base_estimator=None,\n",
        "                   learning_rate=0.001, n_estimators=500, random_state=None)\n",
        "scores = cross_val_score(ada_model, X, y, cv=10, scoring=make_scorer(classification_report_with_accuracy_score))\n",
        "print(classification_report(originalclass, predictedclass))"
      ],
      "execution_count": null,
      "outputs": [
        {
          "output_type": "stream",
          "text": [
            "              precision    recall  f1-score   support\n",
            "\n",
            "           0       0.95      1.00      0.98      4861\n",
            "           1       0.00      0.00      0.00       249\n",
            "\n",
            "    accuracy                           0.95      5110\n",
            "   macro avg       0.48      0.50      0.49      5110\n",
            "weighted avg       0.90      0.95      0.93      5110\n",
            "\n"
          ],
          "name": "stdout"
        }
      ]
    },
    {
      "cell_type": "code",
      "metadata": {
        "colab": {
          "base_uri": "https://localhost:8080/"
        },
        "id": "rteIIghhvIo2",
        "outputId": "ffa6c0db-956c-4810-f8eb-915c005ffee0"
      },
      "source": [
        "tree_model = DecisionTreeClassifier()\n",
        "\n",
        "parameters = {'criterion':['gini','entropy'],'max_depth':[4,5,6,7,8,9,10,11,12,15,20,30,40,50,70,90,120,150]}\n",
        "\n",
        "gcv = GridSearchCV(tree_model, parameters, cv=5, verbose = 1, n_jobs = -1).fit(X_train, y_train)\n",
        "\n",
        "print(f'GridSearchView Best Score: {gcv.best_score_*100}')\n",
        "print(f'GridSearchView Best Estimator: {gcv.best_estimator_}')\n",
        "print(f'GridSearchView Best Params: {gcv.best_params_}')"
      ],
      "execution_count": null,
      "outputs": [
        {
          "output_type": "stream",
          "text": [
            "Fitting 5 folds for each of 36 candidates, totalling 180 fits\n"
          ],
          "name": "stdout"
        },
        {
          "output_type": "stream",
          "text": [
            "[Parallel(n_jobs=-1)]: Using backend LokyBackend with 2 concurrent workers.\n"
          ],
          "name": "stderr"
        },
        {
          "output_type": "stream",
          "text": [
            "GridSearchView Best Score: 94.86847707810946\n",
            "GridSearchView Best Estimator: DecisionTreeClassifier(ccp_alpha=0.0, class_weight=None, criterion='entropy',\n",
            "                       max_depth=4, max_features=None, max_leaf_nodes=None,\n",
            "                       min_impurity_decrease=0.0, min_impurity_split=None,\n",
            "                       min_samples_leaf=1, min_samples_split=2,\n",
            "                       min_weight_fraction_leaf=0.0, presort='deprecated',\n",
            "                       random_state=None, splitter='best')\n",
            "GridSearchView Best Params: {'criterion': 'entropy', 'max_depth': 4}\n"
          ],
          "name": "stdout"
        },
        {
          "output_type": "stream",
          "text": [
            "[Parallel(n_jobs=-1)]: Done 180 out of 180 | elapsed:    2.0s finished\n"
          ],
          "name": "stderr"
        }
      ]
    },
    {
      "cell_type": "code",
      "metadata": {
        "colab": {
          "base_uri": "https://localhost:8080/"
        },
        "id": "OGiD_3huvQkG",
        "outputId": "4dcc025e-39e2-4c47-dfa4-f5ee6d4d4f3d"
      },
      "source": [
        "X = dados[[\"gender\",\"age\",\"hypertension\",\"heart_disease\",\"ever_married\",\"work_type\",\"Residence_type\",\"avg_glucose_level\",\"bmi\",\"smoking_status\"]]\n",
        "y = dados[\"stroke\"]\n",
        "\n",
        "originalclass = []\n",
        "predictedclass = []\n",
        "\n",
        "X = pd.get_dummies(X,drop_first=True)\n",
        "\n",
        "def classification_report_with_accuracy_score(y_true, y_pred):\n",
        "    originalclass.extend(y_true)\n",
        "    predictedclass.extend(y_pred)\n",
        "    return accuracy_score(y_true, y_pred)\n",
        "\n",
        "tree_model = DecisionTreeClassifier(ccp_alpha=0.0, class_weight=None, criterion='entropy',\n",
        "                       max_depth=4, max_features=None, max_leaf_nodes=None,\n",
        "                       min_impurity_decrease=0.0, min_impurity_split=None,\n",
        "                       min_samples_leaf=1, min_samples_split=2,\n",
        "                       min_weight_fraction_leaf=0.0, presort='deprecated',\n",
        "                       random_state=None, splitter='best')\n",
        "scores = cross_val_score(tree_model, X, y, cv=10, scoring=make_scorer(classification_report_with_accuracy_score))\n",
        "print(classification_report(originalclass, predictedclass))"
      ],
      "execution_count": null,
      "outputs": [
        {
          "output_type": "stream",
          "text": [
            "              precision    recall  f1-score   support\n",
            "\n",
            "           0       0.95      1.00      0.97      4861\n",
            "           1       0.00      0.00      0.00       249\n",
            "\n",
            "    accuracy                           0.95      5110\n",
            "   macro avg       0.48      0.50      0.49      5110\n",
            "weighted avg       0.90      0.95      0.93      5110\n",
            "\n"
          ],
          "name": "stdout"
        }
      ]
    }
  ]
}